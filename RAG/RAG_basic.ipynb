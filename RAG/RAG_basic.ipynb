{
 "cells": [
  {
   "cell_type": "markdown",
   "id": "09bed2a8",
   "metadata": {},
   "source": [
    "# Load env vars"
   ]
  },
  {
   "cell_type": "code",
   "execution_count": 8,
   "id": "675f32a6",
   "metadata": {},
   "outputs": [
    {
     "name": "stderr",
     "output_type": "stream",
     "text": [
      "Note: Environment variable`HF_TOKEN` is set and is the current active token independently from the token you've just configured.\n"
     ]
    }
   ],
   "source": [
    "import os\n",
    "from openai import OpenAI\n",
    "from dotenv import load_dotenv\n",
    "\n",
    "load_dotenv(override=False)\n",
    "\n",
    "# HF login if you still pull models from HF\n",
    "tok = os.getenv(\"HF_TOKEN\")\n",
    "if tok:\n",
    "    from huggingface_hub import login\n",
    "    login(token=tok)\n",
    "\n",
    "# OpenAI\n",
    "client = OpenAI(\n",
    "    api_key=os.getenv(\"OPENAI_API_KEY\"),\n",
    "    base_url=os.getenv(\"OPENAI_BASE_URL\") or None,\n",
    "    organization=os.getenv(\"OPENAI_ORG\") or None,\n",
    ")"
   ]
  },
  {
   "cell_type": "code",
   "execution_count": 9,
   "id": "e63d5251",
   "metadata": {},
   "outputs": [],
   "source": [
    "# LangChain/LangSmith tracing\n",
    "if os.getenv(\"LANGCHAIN_TRACING_V2\", \"\").lower() in (\"1\", \"true\", \"yes\"):\n",
    "    os.environ[\"LANGCHAIN_TRACING_V2\"] = \"true\"\n",
    "    if os.getenv(\"LANGCHAIN_ENDPOINT\"):\n",
    "        os.environ[\"LANGCHAIN_ENDPOINT\"] = os.getenv(\"LANGCHAIN_ENDPOINT\")\n",
    "    key = os.getenv(\"LANGSMITH_API_KEY\") or os.getenv(\"LANGCHAIN_API_KEY\")\n",
    "    if key:\n",
    "        os.environ[\"LANGSMITH_API_KEY\"] = key\n",
    "        os.environ[\"LANGCHAIN_API_KEY\"] = key\n",
    "    if os.getenv(\"LANGCHAIN_PROJECT\"):\n",
    "        os.environ[\"LANGCHAIN_PROJECT\"] = os.getenv(\"LANGCHAIN_PROJECT\")"
   ]
  },
  {
   "cell_type": "markdown",
   "id": "90245492",
   "metadata": {},
   "source": [
    "# Indexing"
   ]
  },
  {
   "cell_type": "markdown",
   "id": "384f48a6",
   "metadata": {},
   "source": [
    "Defining a question and a str to give context"
   ]
  },
  {
   "cell_type": "code",
   "execution_count": 10,
   "id": "cbf0cf5e",
   "metadata": {},
   "outputs": [],
   "source": [
    "question = \"What kinds of pets do I like?\"\n",
    "document = \"My favorite pet is a dog, and I dont really like cats\""
   ]
  },
  {
   "cell_type": "markdown",
   "id": "8ff2ee14",
   "metadata": {},
   "source": [
    "Counting tokens"
   ]
  },
  {
   "cell_type": "code",
   "execution_count": 12,
   "id": "36139d3b",
   "metadata": {},
   "outputs": [
    {
     "data": {
      "text/plain": [
       "8"
      ]
     },
     "execution_count": 12,
     "metadata": {},
     "output_type": "execute_result"
    }
   ],
   "source": [
    "import tiktoken\n",
    "\n",
    "def num_tokens_from_string(string: str, encoding_name: str) -> int:\n",
    "    \"\"\"Returns the number of tokens in a text string.\"\"\"\n",
    "    encoding = tiktoken.get_encoding(encoding_name)\n",
    "    num_tokens = len(encoding.encode(string))\n",
    "    return num_tokens\n",
    "\n",
    "num_tokens_from_string(question, \"cl100k_base\")"
   ]
  },
  {
   "cell_type": "markdown",
   "id": "bad22530",
   "metadata": {},
   "source": [
    "Defining an embedding model "
   ]
  },
  {
   "cell_type": "code",
   "execution_count": null,
   "id": "0a040eed",
   "metadata": {},
   "outputs": [],
   "source": [
    "from langchain_openai import OpenAIEmbeddings\n",
    "\n",
    "embd = OpenAIEmbeddings()\n",
    "query_result = embd.embed_query(question)\n",
    "document_result = embd.embed_query(document)\n",
    "len(query_result)"
   ]
  }
 ],
 "metadata": {
  "kernelspec": {
   "display_name": "rag-test",
   "language": "python",
   "name": "python3"
  },
  "language_info": {
   "codemirror_mode": {
    "name": "ipython",
    "version": 3
   },
   "file_extension": ".py",
   "mimetype": "text/x-python",
   "name": "python",
   "nbconvert_exporter": "python",
   "pygments_lexer": "ipython3",
   "version": "3.11.13"
  }
 },
 "nbformat": 4,
 "nbformat_minor": 5
}
